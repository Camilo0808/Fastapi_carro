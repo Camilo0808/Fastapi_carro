{
 "cells": [
  {
   "cell_type": "code",
   "execution_count": 45,
   "metadata": {},
   "outputs": [
    {
     "name": "stdout",
     "output_type": "stream",
     "text": [
      "O valor total do carro é de R$: 60000.00\n",
      "O juros mensal será de: 0.83 %\n"
     ]
    }
   ],
   "source": [
    "class Financiamento():\n",
    "\n",
    "    def __init__(self, preco, parcelas, juros, preco_juros=0):\n",
    "        \n",
    "        self. preco = preco\n",
    "        self.parcelas = parcelas\n",
    "        self.juros = juros\n",
    "        preco_juros = preco+(preco*(juros/parcelas)*parcelas)\n",
    "        juros_mensal = (juros/parcelas)*100     \n",
    "\n",
    "        print(f'O valor total do carro é de R$:',format(preco_juros, '.2f'))\n",
    "        print('O juros mensal será de:', format(juros_mensal,'.2f'),'%')\n",
    "\n",
    "financiamento_marcelo = Financiamento(50000, 24, 0.20)"
   ]
  }
 ],
 "metadata": {
  "kernelspec": {
   "display_name": "Python 3",
   "language": "python",
   "name": "python3"
  },
  "language_info": {
   "codemirror_mode": {
    "name": "ipython",
    "version": 3
   },
   "file_extension": ".py",
   "mimetype": "text/x-python",
   "name": "python",
   "nbconvert_exporter": "python",
   "pygments_lexer": "ipython3",
   "version": "3.10.6"
  },
  "orig_nbformat": 4,
  "vscode": {
   "interpreter": {
    "hash": "916dbcbb3f70747c44a77c7bcd40155683ae19c65e1c03b4aa3499c5328201f1"
   }
  }
 },
 "nbformat": 4,
 "nbformat_minor": 2
}
